{
  "nbformat": 4,
  "nbformat_minor": 0,
  "metadata": {
    "colab": {
      "provenance": [],
      "authorship_tag": "ABX9TyP7nmjOLdt6XP1P94uFO4Zs",
      "include_colab_link": true
    },
    "kernelspec": {
      "name": "python3",
      "display_name": "Python 3"
    },
    "language_info": {
      "name": "python"
    }
  },
  "cells": [
    {
      "cell_type": "markdown",
      "metadata": {
        "id": "view-in-github",
        "colab_type": "text"
      },
      "source": [
        "<a href=\"https://colab.research.google.com/github/eddisonpham/Hierarchical-Scene-Captioner/blob/main/TransNet.ipynb\" target=\"_parent\"><img src=\"https://colab.research.google.com/assets/colab-badge.svg\" alt=\"Open In Colab\"/></a>"
      ]
    },
    {
      "cell_type": "code",
      "execution_count": 1,
      "metadata": {
        "colab": {
          "base_uri": "https://localhost:8080/"
        },
        "id": "berukz11NsPc",
        "outputId": "4f53f957-2bc8-4b0a-88fe-d4009a95718d"
      },
      "outputs": [
        {
          "output_type": "stream",
          "name": "stdout",
          "text": [
            "Mounted at /content/drive\n"
          ]
        }
      ],
      "source": [
        "from google.colab import drive\n",
        "drive.mount('/content/drive')"
      ]
    },
    {
      "cell_type": "code",
      "source": [
        "%cd /content/drive/MyDrive/AlgoverseMMLMResearch/Cloning/TransNetV2"
      ],
      "metadata": {
        "colab": {
          "base_uri": "https://localhost:8080/"
        },
        "id": "l2Rnl_7aNu7b",
        "outputId": "8fc4d933-2d91-48ce-bde9-b2dd8fc3d7c8"
      },
      "execution_count": 2,
      "outputs": [
        {
          "output_type": "stream",
          "name": "stdout",
          "text": [
            "/content/drive/MyDrive/AlgoverseMMLMResearch/Cloning/TransNetV2\n"
          ]
        }
      ]
    },
    {
      "cell_type": "code",
      "source": [
        "!ls -lah inference"
      ],
      "metadata": {
        "colab": {
          "base_uri": "https://localhost:8080/"
        },
        "id": "Bgr37dDMN5rN",
        "outputId": "fc166693-5fe5-452d-cd2e-ba2f5abe6003"
      },
      "execution_count": 3,
      "outputs": [
        {
          "output_type": "stream",
          "name": "stdout",
          "text": [
            "total 17K\n",
            "-rw------- 1 root root  284 Jul 17 03:26 Dockerfile\n",
            "-rw------- 1 root root   34 Jul 17 03:26 __init__.py\n",
            "-rw------- 1 root root 3.9K Jul 17 03:26 README.md\n",
            "-rw------- 1 root root 7.9K Jul 17 03:26 transnetv2.py\n",
            "drwx------ 2 root root 4.0K Jul 17 03:26 transnetv2-weights\n"
          ]
        }
      ]
    },
    {
      "cell_type": "code",
      "source": [
        "!mkdir -p /content/drive/MyDrive/output"
      ],
      "metadata": {
        "id": "sDbYuFMpN9UY"
      },
      "execution_count": 4,
      "outputs": []
    },
    {
      "cell_type": "code",
      "source": [
        "!apt-get -y update >/dev/null 2>&1\n",
        "!apt-get -y install ffmpeg >/dev/null 2>&1\n",
        "!ffmpeg -version | head -n 1"
      ],
      "metadata": {
        "colab": {
          "base_uri": "https://localhost:8080/"
        },
        "id": "aNhphUDVOE5b",
        "outputId": "f5633066-f1eb-4d8d-a352-e3b8974dff44"
      },
      "execution_count": 11,
      "outputs": [
        {
          "output_type": "stream",
          "name": "stdout",
          "text": [
            "ffmpeg version 4.4.2-0ubuntu0.22.04.1 Copyright (c) 2000-2021 the FFmpeg developers\n"
          ]
        }
      ]
    },
    {
      "cell_type": "code",
      "source": [
        "!pip install -q --upgrade ffmpeg-python opencv-python"
      ],
      "metadata": {
        "id": "oHMexw6YOKhC"
      },
      "execution_count": 14,
      "outputs": []
    },
    {
      "cell_type": "code",
      "source": [
        "import importlib, sys\n",
        "print(\"ffmpeg-python import ->\", bool(importlib.util.find_spec(\"ffmpeg\")))"
      ],
      "metadata": {
        "colab": {
          "base_uri": "https://localhost:8080/"
        },
        "id": "SQXeE0WRQHqa",
        "outputId": "b3febaa4-fabf-44cc-bbef-d4202fbd0d86"
      },
      "execution_count": 15,
      "outputs": [
        {
          "output_type": "stream",
          "name": "stdout",
          "text": [
            "ffmpeg-python import -> True\n"
          ]
        }
      ]
    },
    {
      "cell_type": "code",
      "source": [
        "!python inference/transnetv2.py \\\n",
        "  --weights \"inference/transnetv2-weights\" \\\n",
        "  --visualize \\\n",
        "  \"/content/drive/MyDrive/sample.mov\""
      ],
      "metadata": {
        "colab": {
          "base_uri": "https://localhost:8080/"
        },
        "id": "2LoN0UooQZzX",
        "outputId": "e989953b-9863-424b-a75f-dc4d9cfe6eec"
      },
      "execution_count": 16,
      "outputs": [
        {
          "output_type": "stream",
          "name": "stdout",
          "text": [
            "2025-08-10 23:12:31.086126: E external/local_xla/xla/stream_executor/cuda/cuda_fft.cc:467] Unable to register cuFFT factory: Attempting to register factory for plugin cuFFT when one has already been registered\n",
            "WARNING: All log messages before absl::InitializeLog() is called are written to STDERR\n",
            "E0000 00:00:1754867551.110536    4791 cuda_dnn.cc:8579] Unable to register cuDNN factory: Attempting to register factory for plugin cuDNN when one has already been registered\n",
            "E0000 00:00:1754867551.117781    4791 cuda_blas.cc:1407] Unable to register cuBLAS factory: Attempting to register factory for plugin cuBLAS when one has already been registered\n",
            "W0000 00:00:1754867551.135892    4791 computation_placer.cc:177] computation placer already registered. Please check linkage and avoid linking the same target more than once.\n",
            "W0000 00:00:1754867551.135947    4791 computation_placer.cc:177] computation placer already registered. Please check linkage and avoid linking the same target more than once.\n",
            "W0000 00:00:1754867551.135952    4791 computation_placer.cc:177] computation placer already registered. Please check linkage and avoid linking the same target more than once.\n",
            "W0000 00:00:1754867551.135956    4791 computation_placer.cc:177] computation placer already registered. Please check linkage and avoid linking the same target more than once.\n",
            "2025-08-10 23:12:31.141447: I tensorflow/core/platform/cpu_feature_guard.cc:210] This TensorFlow binary is optimized to use available CPU instructions in performance-critical operations.\n",
            "To enable the following instructions: AVX2 FMA, in other operations, rebuild TensorFlow with the appropriate compiler flags.\n",
            "2025-08-10 23:12:36.273596: E external/local_xla/xla/stream_executor/cuda/cuda_platform.cc:51] failed call to cuInit: INTERNAL: CUDA error: Failed call to cuInit: UNKNOWN ERROR (303)\n",
            "[TransNetV2] Extracting frames from /content/drive/MyDrive/sample.mov\n",
            "[TransNetV2] Processing video frames 1807/1807\n"
          ]
        }
      ]
    },
    {
      "cell_type": "code",
      "source": [
        "INFDIR = \"/content/drive/MyDrive/AlgoverseMMLMResearch/Cloning/TransNetV2/inference\"\n",
        "WEIGHTS = f\"{INFDIR}/transnetv2-weights\"\n",
        "VIDEO   = \"/content/drive/MyDrive/sample.mov\"\n",
        "FRAMES_CSV = \"/content/drive/MyDrive/output/shot_boundaries_frames.csv\"\n",
        "SECS_CSV   = \"/content/drive/MyDrive/output/shot_boundaries_seconds.csv\"\n",
        "\n",
        "# 1) make the module importable\n",
        "import sys, os\n",
        "sys.path.append(INFDIR) if INFDIR not in sys.path else None\n",
        "\n",
        "# 2) import the model\n",
        "from transnetv2 import TransNetV2\n",
        "import csv, cv2\n",
        "\n",
        "# 3) run inference\n",
        "os.makedirs(os.path.dirname(FRAMES_CSV), exist_ok=True)\n",
        "model = TransNetV2(WEIGHTS)\n",
        "_, _, all_frames_pred = model.predict_video(VIDEO)\n",
        "scenes = model.predictions_to_scenes(all_frames_pred)\n",
        "\n",
        "# 4) save frame indices\n",
        "with open(FRAMES_CSV, \"w\", newline=\"\") as f:\n",
        "    w = csv.writer(f); w.writerow([\"start_frame\",\"end_frame\"]); w.writerows(scenes)\n",
        "\n",
        "# 5) also save timestamps (seconds)\n",
        "cap = cv2.VideoCapture(VIDEO); fps = cap.get(cv2.CAP_PROP_FPS); cap.release()\n",
        "to_sec = lambda f: f / max(fps, 1e-6)\n",
        "with open(SECS_CSV, \"w\", newline=\"\") as f:\n",
        "    w = csv.writer(f); w.writerow([\"start_sec\",\"end_sec\"])\n",
        "    for a, b in scenes: w.writerow([to_sec(a), to_sec(b)])\n",
        "\n",
        "print(f\"Saved {len(scenes)} shots to:\\n- {FRAMES_CSV}\\n- {SECS_CSV}\")\n"
      ],
      "metadata": {
        "colab": {
          "base_uri": "https://localhost:8080/"
        },
        "id": "wpCq4zajQceQ",
        "outputId": "21e0cbee-1273-4791-977a-c47dd45348d2"
      },
      "execution_count": 18,
      "outputs": [
        {
          "output_type": "stream",
          "name": "stdout",
          "text": [
            "[TransNetV2] Extracting frames from /content/drive/MyDrive/sample.mov\n",
            "[TransNetV2] Processing video frames 1807/1807\n",
            "Saved 1 shots to:\n",
            "- /content/drive/MyDrive/output/shot_boundaries_frames.csv\n",
            "- /content/drive/MyDrive/output/shot_boundaries_seconds.csv\n"
          ]
        }
      ]
    },
    {
      "cell_type": "code",
      "source": [],
      "metadata": {
        "id": "VuWnkpFbRSvZ"
      },
      "execution_count": null,
      "outputs": []
    }
  ]
}