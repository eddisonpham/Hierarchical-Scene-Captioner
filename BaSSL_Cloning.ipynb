{
  "nbformat": 4,
  "nbformat_minor": 0,
  "metadata": {
    "colab": {
      "provenance": [],
      "authorship_tag": "ABX9TyOEQyUN384rjsI8ILJzhDJS",
      "include_colab_link": true
    },
    "kernelspec": {
      "name": "python3",
      "display_name": "Python 3"
    },
    "language_info": {
      "name": "python"
    }
  },
  "cells": [
    {
      "cell_type": "markdown",
      "metadata": {
        "id": "view-in-github",
        "colab_type": "text"
      },
      "source": [
        "<a href=\"https://colab.research.google.com/github/eddisonpham/Hierarchical-Scene-Captioner/blob/main/BaSSL_Cloning.ipynb\" target=\"_parent\"><img src=\"https://colab.research.google.com/assets/colab-badge.svg\" alt=\"Open In Colab\"/></a>"
      ]
    },
    {
      "cell_type": "code",
      "execution_count": 1,
      "metadata": {
        "colab": {
          "base_uri": "https://localhost:8080/"
        },
        "id": "GZ1aDBBrYQhp",
        "outputId": "39b3ecee-1b10-4fe8-a69c-66b155da3f16"
      },
      "outputs": [
        {
          "output_type": "stream",
          "name": "stdout",
          "text": [
            "Cloning into 'bassl'...\n",
            "remote: Enumerating objects: 98, done.\u001b[K\n",
            "remote: Counting objects: 100% (98/98), done.\u001b[K\n",
            "remote: Compressing objects: 100% (65/65), done.\u001b[K\n",
            "remote: Total 98 (delta 30), reused 92 (delta 26), pack-reused 0 (from 0)\u001b[K\n",
            "Receiving objects: 100% (98/98), 252.53 KiB | 9.35 MiB/s, done.\n",
            "Resolving deltas: 100% (30/30), done.\n"
          ]
        }
      ],
      "source": [
        "!git clone https://github.com/kakaobrain/bassl"
      ]
    },
    {
      "cell_type": "code",
      "source": [
        "import google.colab as colab\n",
        "colab.drive.mount('/content/drive')"
      ],
      "metadata": {
        "colab": {
          "base_uri": "https://localhost:8080/"
        },
        "id": "Y5siZXLQYaLZ",
        "outputId": "24a3b2b6-42d5-4901-dfd1-1c0a2e739e8a"
      },
      "execution_count": 2,
      "outputs": [
        {
          "output_type": "stream",
          "name": "stdout",
          "text": [
            "Mounted at /content/drive\n"
          ]
        }
      ]
    },
    {
      "cell_type": "code",
      "source": [
        "!git clone https://github.com/kakaobrain/bassl /content/drive/MyDrive/AlgoverseMMLMResearch/Cloning/BaSSL"
      ],
      "metadata": {
        "colab": {
          "base_uri": "https://localhost:8080/"
        },
        "id": "0aOeni8uYfpX",
        "outputId": "134ad8f8-385e-48c5-e5d9-4c320624ce46"
      },
      "execution_count": 3,
      "outputs": [
        {
          "output_type": "stream",
          "name": "stdout",
          "text": [
            "Cloning into '/content/drive/MyDrive/AlgoverseMMLMResearch/Cloning/BaSSL'...\n",
            "remote: Enumerating objects: 98, done.\u001b[K\n",
            "remote: Counting objects: 100% (98/98), done.\u001b[K\n",
            "remote: Compressing objects: 100% (65/65), done.\u001b[K\n",
            "remote: Total 98 (delta 30), reused 92 (delta 26), pack-reused 0 (from 0)\u001b[K\n",
            "Receiving objects: 100% (98/98), 252.53 KiB | 4.95 MiB/s, done.\n",
            "Resolving deltas: 100% (30/30), done.\n"
          ]
        }
      ]
    },
    {
      "cell_type": "code",
      "source": [],
      "metadata": {
        "id": "IYcHSUUpYvA3"
      },
      "execution_count": null,
      "outputs": []
    }
  ]
}