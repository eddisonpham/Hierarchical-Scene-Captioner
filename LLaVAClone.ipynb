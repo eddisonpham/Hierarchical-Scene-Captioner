{
  "nbformat": 4,
  "nbformat_minor": 0,
  "metadata": {
    "colab": {
      "provenance": [],
      "authorship_tag": "ABX9TyNbT7EPrVULPx/vF1PRPbRl",
      "include_colab_link": true
    },
    "kernelspec": {
      "name": "python3",
      "display_name": "Python 3"
    },
    "language_info": {
      "name": "python"
    }
  },
  "cells": [
    {
      "cell_type": "markdown",
      "metadata": {
        "id": "view-in-github",
        "colab_type": "text"
      },
      "source": [
        "<a href=\"https://colab.research.google.com/github/eddisonpham/Hierarchical-Scene-Captioner/blob/main/LLaVAClone.ipynb\" target=\"_parent\"><img src=\"https://colab.research.google.com/assets/colab-badge.svg\" alt=\"Open In Colab\"/></a>"
      ]
    },
    {
      "cell_type": "code",
      "execution_count": null,
      "metadata": {
        "colab": {
          "base_uri": "https://localhost:8080/"
        },
        "id": "kuXXpfHgYWG8",
        "outputId": "71ef1445-10a2-4bb2-dd44-3cc583d5a5b2"
      },
      "outputs": [
        {
          "output_type": "stream",
          "name": "stdout",
          "text": [
            "Cloning into 'LLaVA'...\n",
            "remote: Enumerating objects: 2297, done.\u001b[K\n",
            "remote: Total 2297 (delta 0), reused 0 (delta 0), pack-reused 2297 (from 1)\u001b[K\n",
            "Receiving objects: 100% (2297/2297), 13.71 MiB | 10.41 MiB/s, done.\n",
            "Resolving deltas: 100% (1405/1405), done.\n"
          ]
        }
      ],
      "source": [
        "!git clone https://github.com/haotian-liu/LLaVA"
      ]
    },
    {
      "cell_type": "code",
      "source": [
        "import os\n",
        "os.listdir('LLaVA')"
      ],
      "metadata": {
        "colab": {
          "base_uri": "https://localhost:8080/"
        },
        "id": "ZPex1-4XYxev",
        "outputId": "cdbebbfc-2b6b-4fef-dc23-ef791cae6dd8"
      },
      "execution_count": null,
      "outputs": [
        {
          "output_type": "execute_result",
          "data": {
            "text/plain": [
              "['images',\n",
              " 'pyproject.toml',\n",
              " '.dockerignore',\n",
              " '.git',\n",
              " 'scripts',\n",
              " 'playground',\n",
              " 'cog.yaml',\n",
              " 'LICENSE',\n",
              " 'docs',\n",
              " '.devcontainer',\n",
              " 'llava',\n",
              " '.gitattributes',\n",
              " '.gitignore',\n",
              " 'predict.py',\n",
              " '.editorconfig',\n",
              " 'README.md',\n",
              " '.github']"
            ]
          },
          "metadata": {},
          "execution_count": 2
        }
      ]
    },
    {
      "cell_type": "code",
      "source": [
        "from google.colab import drive\n",
        "drive.mount('/content/drive')"
      ],
      "metadata": {
        "colab": {
          "base_uri": "https://localhost:8080/"
        },
        "id": "UIIuglAoZBsx",
        "outputId": "bd4d4995-0e0a-4134-c7b8-f236d6cd1f10"
      },
      "execution_count": null,
      "outputs": [
        {
          "output_type": "stream",
          "name": "stdout",
          "text": [
            "Mounted at /content/drive\n"
          ]
        }
      ]
    },
    {
      "cell_type": "code",
      "source": [
        "!git clone https://github.com/haotian-liu/LLaVA /content/drive/MyDrive/AlgoverseMMLMResearch/LLaVA"
      ],
      "metadata": {
        "colab": {
          "base_uri": "https://localhost:8080/"
        },
        "id": "4ZvFoBCJZSVV",
        "outputId": "2e1a7cc6-2fa8-4033-c5f3-229e2b283197"
      },
      "execution_count": null,
      "outputs": [
        {
          "output_type": "stream",
          "name": "stdout",
          "text": [
            "Cloning into '/content/drive/MyDrive/AlgoverseMMLMResearch/LLaVA'...\n",
            "remote: Enumerating objects: 2297, done.\u001b[K\n",
            "remote: Total 2297 (delta 0), reused 0 (delta 0), pack-reused 2297 (from 1)\u001b[K\n",
            "Receiving objects: 100% (2297/2297), 13.71 MiB | 15.53 MiB/s, done.\n",
            "Resolving deltas: 100% (1404/1404), done.\n",
            "Updating files: 100% (175/175), done.\n"
          ]
        }
      ]
    },
    {
      "cell_type": "code",
      "source": [],
      "metadata": {
        "id": "uhO8lLjEZlaf"
      },
      "execution_count": null,
      "outputs": []
    }
  ]
}